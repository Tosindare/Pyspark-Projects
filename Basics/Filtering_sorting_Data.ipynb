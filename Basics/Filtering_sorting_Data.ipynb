{
 "cells": [
  {
   "cell_type": "code",
   "execution_count": 1,
   "metadata": {},
   "outputs": [],
   "source": [
    "import findspark"
   ]
  },
  {
   "cell_type": "code",
   "execution_count": 2,
   "metadata": {},
   "outputs": [],
   "source": [
    "findspark.init('/home/tosin/spark-3.0.1-bin-hadoop2.7')"
   ]
  },
  {
   "cell_type": "code",
   "execution_count": 3,
   "metadata": {},
   "outputs": [],
   "source": [
    "import pyspark"
   ]
  },
  {
   "cell_type": "code",
   "execution_count": 4,
   "metadata": {},
   "outputs": [],
   "source": [
    "from pyspark.sql import SparkSession"
   ]
  },
  {
   "cell_type": "code",
   "execution_count": 5,
   "metadata": {},
   "outputs": [],
   "source": [
    "spark = SparkSession.builder.appName('Alpha').getOrCreate()"
   ]
  },
  {
   "cell_type": "code",
   "execution_count": 7,
   "metadata": {},
   "outputs": [],
   "source": [
    "data = spark.read.json('/home/tosin/Documents/Dataset/people.json')"
   ]
  },
  {
   "cell_type": "code",
   "execution_count": 8,
   "metadata": {},
   "outputs": [
    {
     "name": "stdout",
     "output_type": "stream",
     "text": [
      "+----+-------+\n",
      "| age|   name|\n",
      "+----+-------+\n",
      "|null|Michael|\n",
      "|  30|   Andy|\n",
      "|  19| Justin|\n",
      "+----+-------+\n",
      "\n"
     ]
    }
   ],
   "source": [
    "data.show()"
   ]
  },
  {
   "cell_type": "code",
   "execution_count": 10,
   "metadata": {},
   "outputs": [
    {
     "name": "stdout",
     "output_type": "stream",
     "text": [
      "root\n",
      " |-- age: long (nullable = true)\n",
      " |-- name: string (nullable = true)\n",
      "\n"
     ]
    }
   ],
   "source": [
    "#Run Schema\n",
    "\n",
    "data.printSchema()"
   ]
  },
  {
   "cell_type": "code",
   "execution_count": 12,
   "metadata": {},
   "outputs": [
    {
     "data": {
      "text/plain": [
       "['age', 'name']"
      ]
     },
     "execution_count": 12,
     "metadata": {},
     "output_type": "execute_result"
    }
   ],
   "source": [
    "#describe data\n",
    "\n",
    "data.columns"
   ]
  },
  {
   "cell_type": "code",
   "execution_count": 15,
   "metadata": {},
   "outputs": [
    {
     "name": "stdout",
     "output_type": "stream",
     "text": [
      "+-------+------------------+-------+\n",
      "|summary|               age|   name|\n",
      "+-------+------------------+-------+\n",
      "|  count|                 2|      3|\n",
      "|   mean|              24.5|   null|\n",
      "| stddev|7.7781745930520225|   null|\n",
      "|    min|                19|   Andy|\n",
      "|    max|                30|Michael|\n",
      "+-------+------------------+-------+\n",
      "\n"
     ]
    }
   ],
   "source": [
    "data.describe().show()"
   ]
  },
  {
   "cell_type": "code",
   "execution_count": 38,
   "metadata": {},
   "outputs": [],
   "source": [
    "water_df = spark.read.format('csv').option('header', 'True').load('/home/tosin/Documents/Dataset/effluent_data.csv')"
   ]
  },
  {
   "cell_type": "code",
   "execution_count": 27,
   "metadata": {},
   "outputs": [
    {
     "name": "stdout",
     "output_type": "stream",
     "text": [
      "+---------------+--------------+---------------+------------------+--------------------+--------------------+--------------------+---------------+----+-----+\n",
      "|SampleDateTime0|TreatmentPlant|SampleDateTime2|SampleLocationName|         SampleValue| NameDeterminandName|           UnitsName|BelowMinReading|Year|Month|\n",
      "+---------------+--------------+---------------+------------------+--------------------+--------------------+--------------------+---------------+----+-----+\n",
      "|     2015-11-19| Driffield STW|     2015-11-19|Treatment Effluent|0.013999999999999999|           triclosan|micrograms per litre|            Yes|2015|   11|\n",
      "|     2015-04-06|Pen-y-bont STW|     2015-04-06|Treatment Effluent|              0.0005|              BDE 99|micrograms per litre|            Yes|2015|    4|\n",
      "|     2015-04-06|Pen-y-bont STW|     2015-04-06|Treatment Effluent|              0.0005|             BDE 100|micrograms per litre|            Yes|2015|    4|\n",
      "|     2015-04-06|Pen-y-bont STW|     2015-04-06|Treatment Effluent|              0.0005|             BDE 153|micrograms per litre|            Yes|2015|    4|\n",
      "|     2015-04-06|Pen-y-bont STW|     2015-04-06|Treatment Effluent|              0.0005|             BDE 154|micrograms per litre|            Yes|2015|    4|\n",
      "|     2015-04-06|Pen-y-bont STW|     2015-04-06|Treatment Effluent|2.999999999999999...|ethinyloestradiol...|micrograms per litre|            Yes|2015|    4|\n",
      "|     2015-04-06|Pen-y-bont STW|     2015-04-06|Treatment Effluent|               1e-05|        cypermethrin|micrograms per litre|            Yes|2015|    4|\n",
      "|     2015-09-29|  Deepings STW|     2015-09-29|Treatment Effluent|                34.0|     aluminium total|micrograms per litre|             No|2015|    9|\n",
      "|     2015-09-29|  Deepings STW|     2015-09-29|Treatment Effluent|                 6.0|  aluminium reactive|micrograms per litre|             No|2015|    9|\n",
      "|     2015-09-29|  Deepings STW|     2015-09-29|Treatment Effluent|                0.52|  chromium dissolved|micrograms per litre|            Yes|2015|    9|\n",
      "|     2015-09-29|  Deepings STW|     2015-09-29|Treatment Effluent|                0.55|      chromium total|micrograms per litre|             No|2015|    9|\n",
      "|     2015-04-06|Pen-y-bont STW|     2015-04-06|Treatment Effluent|              0.0005|              BDE 47|micrograms per litre|            Yes|2015|    4|\n",
      "|     2015-09-29|  Deepings STW|     2015-09-29|Treatment Effluent|                0.75|diethylhexylphtha...|micrograms per litre|             No|2015|    9|\n",
      "|     2015-09-29|  Deepings STW|     2015-09-29|Treatment Effluent|                 0.0|              BDE 47|micrograms per litre|            Yes|2015|    9|\n",
      "|     2015-09-29|  Deepings STW|     2015-09-29|Treatment Effluent|                 0.0|              BDE 99|micrograms per litre|            Yes|2015|    9|\n",
      "|     2015-09-29|  Deepings STW|     2015-09-29|Treatment Effluent|                 0.0|             BDE 100|micrograms per litre|            Yes|2015|    9|\n",
      "|     2015-09-29|  Deepings STW|     2015-09-29|Treatment Effluent|                 0.0|             BDE 153|micrograms per litre|            Yes|2015|    9|\n",
      "|     2015-09-29|  Deepings STW|     2015-09-29|Treatment Effluent|                 0.0|             BDE 154|micrograms per litre|            Yes|2015|    9|\n",
      "|     2015-09-29|  Deepings STW|     2015-09-29|Treatment Effluent|                0.01|                PFOS|micrograms per litre|             No|2015|    9|\n",
      "|     2015-09-29|  Deepings STW|     2015-09-29|Treatment Effluent|                 0.0|                PFOA|micrograms per litre|             No|2015|    9|\n",
      "+---------------+--------------+---------------+------------------+--------------------+--------------------+--------------------+---------------+----+-----+\n",
      "only showing top 20 rows\n",
      "\n"
     ]
    }
   ],
   "source": [
    "water_df.show()"
   ]
  },
  {
   "cell_type": "code",
   "execution_count": 28,
   "metadata": {},
   "outputs": [
    {
     "name": "stdout",
     "output_type": "stream",
     "text": [
      "root\n",
      " |-- SampleDateTime0: string (nullable = true)\n",
      " |-- TreatmentPlant: string (nullable = true)\n",
      " |-- SampleDateTime2: string (nullable = true)\n",
      " |-- SampleLocationName: string (nullable = true)\n",
      " |-- SampleValue: string (nullable = true)\n",
      " |-- NameDeterminandName: string (nullable = true)\n",
      " |-- UnitsName: string (nullable = true)\n",
      " |-- BelowMinReading: string (nullable = true)\n",
      " |-- Year: string (nullable = true)\n",
      " |-- Month: string (nullable = true)\n",
      "\n"
     ]
    }
   ],
   "source": [
    "water_df.printSchema()"
   ]
  },
  {
   "cell_type": "code",
   "execution_count": 34,
   "metadata": {},
   "outputs": [],
   "source": [
    "#edit the schemas appropriately\n",
    "\n",
    "from pyspark.sql.types import StructField, StringType, IntegerType, StructType, DateType, FloatType"
   ]
  },
  {
   "cell_type": "code",
   "execution_count": 35,
   "metadata": {},
   "outputs": [],
   "source": [
    "data_schema = [StructField('SampleDateTime0', DateType(), True),\n",
    "              StructField('SampleDateTime2', DateType(), True),\n",
    "              StructField('SampleValue', FloatType(), True),\n",
    "              StructField('Month', IntegerType(), True)]"
   ]
  },
  {
   "cell_type": "code",
   "execution_count": 42,
   "metadata": {},
   "outputs": [],
   "source": [
    "final_struc = StructType(fields=data_schema)"
   ]
  },
  {
   "cell_type": "code",
   "execution_count": 49,
   "metadata": {},
   "outputs": [],
   "source": [
    "water_df = spark.read.csv('/home/tosin/Documents/Dataset/effluent_data.csv', header=True, inferSchema=True)"
   ]
  },
  {
   "cell_type": "code",
   "execution_count": 57,
   "metadata": {},
   "outputs": [],
   "source": [
    "#water_df.printSchema()"
   ]
  },
  {
   "cell_type": "code",
   "execution_count": 53,
   "metadata": {},
   "outputs": [
    {
     "data": {
      "text/plain": [
       "[('SampleDateTime0', 'string'),\n",
       " ('TreatmentPlant', 'string'),\n",
       " ('SampleDateTime2', 'string'),\n",
       " ('SampleLocationName', 'string'),\n",
       " ('SampleValue', 'double'),\n",
       " ('NameDeterminandName', 'string'),\n",
       " ('UnitsName', 'string'),\n",
       " ('BelowMinReading', 'string'),\n",
       " ('Year', 'int'),\n",
       " ('Month', 'int')]"
      ]
     },
     "execution_count": 53,
     "metadata": {},
     "output_type": "execute_result"
    }
   ],
   "source": [
    "water_df.dtypes\n"
   ]
  },
  {
   "cell_type": "code",
   "execution_count": 56,
   "metadata": {},
   "outputs": [],
   "source": [
    "#water_df[water_df.NameDeterminandName == 'triclosan'].show()"
   ]
  },
  {
   "cell_type": "code",
   "execution_count": null,
   "metadata": {},
   "outputs": [],
   "source": []
  }
 ],
 "metadata": {
  "kernelspec": {
   "display_name": "Python 3",
   "language": "python",
   "name": "python3"
  },
  "language_info": {
   "codemirror_mode": {
    "name": "ipython",
    "version": 3
   },
   "file_extension": ".py",
   "mimetype": "text/x-python",
   "name": "python",
   "nbconvert_exporter": "python",
   "pygments_lexer": "ipython3",
   "version": "3.8.5"
  }
 },
 "nbformat": 4,
 "nbformat_minor": 4
}
