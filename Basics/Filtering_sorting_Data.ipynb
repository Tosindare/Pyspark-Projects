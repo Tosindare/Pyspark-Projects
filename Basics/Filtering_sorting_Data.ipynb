{
 "cells": [
  {
   "cell_type": "code",
   "execution_count": 1,
   "metadata": {},
   "outputs": [],
   "source": [
    "import findspark"
   ]
  },
  {
   "cell_type": "code",
   "execution_count": 2,
   "metadata": {},
   "outputs": [],
   "source": [
    "findspark.init('/home/tosin/spark-3.0.1-bin-hadoop2.7')"
   ]
  },
  {
   "cell_type": "code",
   "execution_count": 3,
   "metadata": {},
   "outputs": [],
   "source": [
    "import pyspark"
   ]
  },
  {
   "cell_type": "code",
   "execution_count": 4,
   "metadata": {},
   "outputs": [],
   "source": [
    "from pyspark.sql import SparkSession"
   ]
  },
  {
   "cell_type": "code",
   "execution_count": 5,
   "metadata": {},
   "outputs": [],
   "source": [
    "spark = SparkSession.builder.appName('Alpha').getOrCreate()"
   ]
  },
  {
   "cell_type": "code",
   "execution_count": 6,
   "metadata": {},
   "outputs": [],
   "source": [
    "data = spark.read.json('/home/tosin/Documents/Dataset/people.json')"
   ]
  },
  {
   "cell_type": "code",
   "execution_count": 7,
   "metadata": {},
   "outputs": [
    {
     "name": "stdout",
     "output_type": "stream",
     "text": [
      "+----+-------+\n",
      "| age|   name|\n",
      "+----+-------+\n",
      "|null|Michael|\n",
      "|  30|   Andy|\n",
      "|  19| Justin|\n",
      "+----+-------+\n",
      "\n"
     ]
    }
   ],
   "source": [
    "data.show()"
   ]
  },
  {
   "cell_type": "code",
   "execution_count": 8,
   "metadata": {},
   "outputs": [
    {
     "name": "stdout",
     "output_type": "stream",
     "text": [
      "root\n",
      " |-- age: long (nullable = true)\n",
      " |-- name: string (nullable = true)\n",
      "\n"
     ]
    }
   ],
   "source": [
    "#Run Schema\n",
    "\n",
    "data.printSchema()"
   ]
  },
  {
   "cell_type": "code",
   "execution_count": 9,
   "metadata": {},
   "outputs": [
    {
     "data": {
      "text/plain": [
       "['age', 'name']"
      ]
     },
     "execution_count": 9,
     "metadata": {},
     "output_type": "execute_result"
    }
   ],
   "source": [
    "#describe data\n",
    "\n",
    "data.columns"
   ]
  },
  {
   "cell_type": "code",
   "execution_count": 10,
   "metadata": {},
   "outputs": [
    {
     "name": "stdout",
     "output_type": "stream",
     "text": [
      "+-------+------------------+-------+\n",
      "|summary|               age|   name|\n",
      "+-------+------------------+-------+\n",
      "|  count|                 2|      3|\n",
      "|   mean|              24.5|   null|\n",
      "| stddev|7.7781745930520225|   null|\n",
      "|    min|                19|   Andy|\n",
      "|    max|                30|Michael|\n",
      "+-------+------------------+-------+\n",
      "\n"
     ]
    }
   ],
   "source": [
    "data.describe().show()"
   ]
  },
  {
   "cell_type": "code",
   "execution_count": 11,
   "metadata": {},
   "outputs": [],
   "source": [
    "water_df = spark.read.format('csv').option('header', 'True').load('/home/tosin/Documents/Dataset/effluent_data.csv')"
   ]
  },
  {
   "cell_type": "code",
   "execution_count": 12,
   "metadata": {},
   "outputs": [
    {
     "name": "stdout",
     "output_type": "stream",
     "text": [
      "+---------------+--------------+---------------+------------------+--------------------+--------------------+--------------------+---------------+----+-----+\n",
      "|SampleDateTime0|TreatmentPlant|SampleDateTime2|SampleLocationName|         SampleValue| NameDeterminandName|           UnitsName|BelowMinReading|Year|Month|\n",
      "+---------------+--------------+---------------+------------------+--------------------+--------------------+--------------------+---------------+----+-----+\n",
      "|     2015-11-19| Driffield STW|     2015-11-19|Treatment Effluent|0.013999999999999999|           triclosan|micrograms per litre|            Yes|2015|   11|\n",
      "|     2015-04-06|Pen-y-bont STW|     2015-04-06|Treatment Effluent|              0.0005|              BDE 99|micrograms per litre|            Yes|2015|    4|\n",
      "|     2015-04-06|Pen-y-bont STW|     2015-04-06|Treatment Effluent|              0.0005|             BDE 100|micrograms per litre|            Yes|2015|    4|\n",
      "|     2015-04-06|Pen-y-bont STW|     2015-04-06|Treatment Effluent|              0.0005|             BDE 153|micrograms per litre|            Yes|2015|    4|\n",
      "|     2015-04-06|Pen-y-bont STW|     2015-04-06|Treatment Effluent|              0.0005|             BDE 154|micrograms per litre|            Yes|2015|    4|\n",
      "|     2015-04-06|Pen-y-bont STW|     2015-04-06|Treatment Effluent|2.999999999999999...|ethinyloestradiol...|micrograms per litre|            Yes|2015|    4|\n",
      "|     2015-04-06|Pen-y-bont STW|     2015-04-06|Treatment Effluent|               1e-05|        cypermethrin|micrograms per litre|            Yes|2015|    4|\n",
      "|     2015-09-29|  Deepings STW|     2015-09-29|Treatment Effluent|                34.0|     aluminium total|micrograms per litre|             No|2015|    9|\n",
      "|     2015-09-29|  Deepings STW|     2015-09-29|Treatment Effluent|                 6.0|  aluminium reactive|micrograms per litre|             No|2015|    9|\n",
      "|     2015-09-29|  Deepings STW|     2015-09-29|Treatment Effluent|                0.52|  chromium dissolved|micrograms per litre|            Yes|2015|    9|\n",
      "|     2015-09-29|  Deepings STW|     2015-09-29|Treatment Effluent|                0.55|      chromium total|micrograms per litre|             No|2015|    9|\n",
      "|     2015-04-06|Pen-y-bont STW|     2015-04-06|Treatment Effluent|              0.0005|              BDE 47|micrograms per litre|            Yes|2015|    4|\n",
      "|     2015-09-29|  Deepings STW|     2015-09-29|Treatment Effluent|                0.75|diethylhexylphtha...|micrograms per litre|             No|2015|    9|\n",
      "|     2015-09-29|  Deepings STW|     2015-09-29|Treatment Effluent|                 0.0|              BDE 47|micrograms per litre|            Yes|2015|    9|\n",
      "|     2015-09-29|  Deepings STW|     2015-09-29|Treatment Effluent|                 0.0|              BDE 99|micrograms per litre|            Yes|2015|    9|\n",
      "|     2015-09-29|  Deepings STW|     2015-09-29|Treatment Effluent|                 0.0|             BDE 100|micrograms per litre|            Yes|2015|    9|\n",
      "|     2015-09-29|  Deepings STW|     2015-09-29|Treatment Effluent|                 0.0|             BDE 153|micrograms per litre|            Yes|2015|    9|\n",
      "|     2015-09-29|  Deepings STW|     2015-09-29|Treatment Effluent|                 0.0|             BDE 154|micrograms per litre|            Yes|2015|    9|\n",
      "|     2015-09-29|  Deepings STW|     2015-09-29|Treatment Effluent|                0.01|                PFOS|micrograms per litre|             No|2015|    9|\n",
      "|     2015-09-29|  Deepings STW|     2015-09-29|Treatment Effluent|                 0.0|                PFOA|micrograms per litre|             No|2015|    9|\n",
      "+---------------+--------------+---------------+------------------+--------------------+--------------------+--------------------+---------------+----+-----+\n",
      "only showing top 20 rows\n",
      "\n"
     ]
    }
   ],
   "source": [
    "water_df.show()"
   ]
  },
  {
   "cell_type": "code",
   "execution_count": 13,
   "metadata": {},
   "outputs": [
    {
     "name": "stdout",
     "output_type": "stream",
     "text": [
      "root\n",
      " |-- SampleDateTime0: string (nullable = true)\n",
      " |-- TreatmentPlant: string (nullable = true)\n",
      " |-- SampleDateTime2: string (nullable = true)\n",
      " |-- SampleLocationName: string (nullable = true)\n",
      " |-- SampleValue: string (nullable = true)\n",
      " |-- NameDeterminandName: string (nullable = true)\n",
      " |-- UnitsName: string (nullable = true)\n",
      " |-- BelowMinReading: string (nullable = true)\n",
      " |-- Year: string (nullable = true)\n",
      " |-- Month: string (nullable = true)\n",
      "\n"
     ]
    }
   ],
   "source": [
    "water_df.printSchema()"
   ]
  },
  {
   "cell_type": "code",
   "execution_count": 14,
   "metadata": {},
   "outputs": [],
   "source": [
    "#edit the schemas appropriately\n",
    "\n",
    "from pyspark.sql.types import StructField, StringType, IntegerType, StructType, DateType, FloatType"
   ]
  },
  {
   "cell_type": "code",
   "execution_count": 15,
   "metadata": {},
   "outputs": [],
   "source": [
    "data_schema = [StructField('SampleDateTime0', DateType(), True),\n",
    "              StructField('SampleDateTime2', DateType(), True),\n",
    "              StructField('SampleValue', FloatType(), True),\n",
    "              StructField('Month', IntegerType(), True)]"
   ]
  },
  {
   "cell_type": "code",
   "execution_count": 16,
   "metadata": {},
   "outputs": [],
   "source": [
    "final_struc = StructType(fields=data_schema)"
   ]
  },
  {
   "cell_type": "code",
   "execution_count": 17,
   "metadata": {},
   "outputs": [],
   "source": [
    "water_df = spark.read.csv('/home/tosin/Documents/Dataset/effluent_data.csv', header=True, inferSchema=True)"
   ]
  },
  {
   "cell_type": "code",
   "execution_count": 18,
   "metadata": {},
   "outputs": [],
   "source": [
    "#water_df.printSchema()"
   ]
  },
  {
   "cell_type": "code",
   "execution_count": 19,
   "metadata": {},
   "outputs": [
    {
     "data": {
      "text/plain": [
       "[('SampleDateTime0', 'string'),\n",
       " ('TreatmentPlant', 'string'),\n",
       " ('SampleDateTime2', 'string'),\n",
       " ('SampleLocationName', 'string'),\n",
       " ('SampleValue', 'double'),\n",
       " ('NameDeterminandName', 'string'),\n",
       " ('UnitsName', 'string'),\n",
       " ('BelowMinReading', 'string'),\n",
       " ('Year', 'int'),\n",
       " ('Month', 'int')]"
      ]
     },
     "execution_count": 19,
     "metadata": {},
     "output_type": "execute_result"
    }
   ],
   "source": [
    "water_df.dtypes\n"
   ]
  },
  {
   "cell_type": "code",
   "execution_count": 20,
   "metadata": {},
   "outputs": [],
   "source": [
    "#water_df[water_df.NameDeterminandName == 'triclosan'].show()"
   ]
  },
  {
   "cell_type": "markdown",
   "metadata": {},
   "source": [
    "### Quick Exercise on Spark Dataframe"
   ]
  },
  {
   "cell_type": "code",
   "execution_count": 46,
   "metadata": {},
   "outputs": [
    {
     "name": "stdout",
     "output_type": "stream",
     "text": [
      "+-----+-----+\n",
      "|Month|count|\n",
      "+-----+-----+\n",
      "|   12|35325|\n",
      "|    4|48810|\n",
      "|    2|49474|\n",
      "|    5|51861|\n",
      "|    3|52973|\n",
      "|    8|53602|\n",
      "|    6|54137|\n",
      "|   10|54933|\n",
      "|    1|56030|\n",
      "|    7|57147|\n",
      "|    9|59533|\n",
      "|   11|64298|\n",
      "+-----+-----+\n",
      "\n"
     ]
    }
   ],
   "source": [
    "# Groupd dataset by Year\n",
    "water_df.groupBy('Month').count().orderBy('count').show()  "
   ]
  },
  {
   "cell_type": "code",
   "execution_count": 41,
   "metadata": {},
   "outputs": [
    {
     "name": "stdout",
     "output_type": "stream",
     "text": [
      "+--------------------+------+\n",
      "|           UnitsName| count|\n",
      "+--------------------+------+\n",
      "|             Not Set|  1165|\n",
      "|milligrammes per ...|134397|\n",
      "|micrograms per litre|502561|\n",
      "+--------------------+------+\n",
      "\n"
     ]
    }
   ],
   "source": [
    "# Groupd dataset by Units\n",
    "water_df.groupBy('UnitsName').count().orderBy('count').show()  "
   ]
  },
  {
   "cell_type": "code",
   "execution_count": 40,
   "metadata": {},
   "outputs": [
    {
     "name": "stdout",
     "output_type": "stream",
     "text": [
      "+---------------+------+\n",
      "|BelowMinReading| count|\n",
      "+---------------+------+\n",
      "|            Yes|190959|\n",
      "|             No|447164|\n",
      "+---------------+------+\n",
      "\n"
     ]
    }
   ],
   "source": [
    "# Groupd dataset by 'below min reading'\n",
    "water_df.groupBy('BelowMinReading').count().orderBy('count').show()  "
   ]
  },
  {
   "cell_type": "code",
   "execution_count": 35,
   "metadata": {},
   "outputs": [
    {
     "name": "stdout",
     "output_type": "stream",
     "text": [
      "+--------------------+-----+\n",
      "| NameDeterminandName|count|\n",
      "+--------------------+-----+\n",
      "|    nickel dissolved|12513|\n",
      "|total suspended s...|12379|\n",
      "|             calcium|12376|\n",
      "|        nickel total|12376|\n",
      "|          iron total|12376|\n",
      "|        copper total|12375|\n",
      "|dissolved organic...|12374|\n",
      "|       cadmium total|12374|\n",
      "|   cadmium dissolved|12370|\n",
      "|          lead total|12370|\n",
      "|      chromium total|12370|\n",
      "|     aluminium total|12365|\n",
      "|total organic carbon|12365|\n",
      "|      iron dissolved|12364|\n",
      "|          zinc total|12363|\n",
      "|           triclosan|12363|\n",
      "|    copper dissolved|12357|\n",
      "| aluminium dissolved|12352|\n",
      "|  aluminium reactive|12351|\n",
      "|                PFOS|12347|\n",
      "+--------------------+-----+\n",
      "only showing top 20 rows\n",
      "\n"
     ]
    }
   ],
   "source": [
    "# Groupd dataset by Determinants\n",
    "water_df.groupBy('NameDeterminandName').count().orderBy('count', ascending=False).show() \n",
    "\n",
    "#top"
   ]
  },
  {
   "cell_type": "code",
   "execution_count": 38,
   "metadata": {},
   "outputs": [
    {
     "name": "stdout",
     "output_type": "stream",
     "text": [
      "+--------------------+-----+\n",
      "|      TreatmentPlant|count|\n",
      "+--------------------+-----+\n",
      "|        Sherburn STW| 2414|\n",
      "|       Rye Meads STW| 2232|\n",
      "|          Hurley STW| 2071|\n",
      "|         Birtley STW| 2005|\n",
      "|          Marlow STW| 2002|\n",
      "|       Melbourne STW| 1998|\n",
      "|         Farnham STW| 1925|\n",
      "|       Aldershot STW| 1925|\n",
      "|          Battle STW| 1861|\n",
      "|          Huyton STW| 1851|\n",
      "|           Luton STW| 1848|\n",
      "|         Reading STW| 1848|\n",
      "|       Nettleham STW| 1844|\n",
      "|        Oldhurst STW| 1837|\n",
      "|       Tuddenham STW| 1798|\n",
      "|           Wells STW| 1797|\n",
      "|       Witchford STW| 1797|\n",
      "|       Alconbury STW| 1796|\n",
      "|      Swineshead STW| 1796|\n",
      "|       Rackheath STW| 1795|\n",
      "|            Acle STW| 1792|\n",
      "|        Hanslope STW| 1786|\n",
      "|      Waterbeach STW| 1767|\n",
      "|         Duxford STW| 1748|\n",
      "|    Uttons Drove STW| 1748|\n",
      "|          Barrow STW| 1747|\n",
      "|      Dullingham STW| 1747|\n",
      "|        Frampton STW| 1729|\n",
      "|      Callington STW| 1698|\n",
      "|            Looe STW| 1655|\n",
      "|     Horsham New STW| 1641|\n",
      "|       Broughton STW| 1625|\n",
      "|         Lincoln STW| 1596|\n",
      "|          Howdon STW| 1566|\n",
      "|        Hempnall STW| 1550|\n",
      "|         Royston STW| 1549|\n",
      "|      Hustledown STW| 1544|\n",
      "|        Sandford STW| 1540|\n",
      "|        Knostrop STW| 1533|\n",
      "|Tunbridge Wells N...| 1531|\n",
      "|        Pegswood STW| 1524|\n",
      "|   Kidderminster STW| 1520|\n",
      "|         Fornham STW| 1520|\n",
      "|        Minworth STW| 1519|\n",
      "|           Corby STW| 1519|\n",
      "|      Horncastle STW| 1519|\n",
      "|       Ambergate STW| 1519|\n",
      "|         Warwick STW| 1519|\n",
      "|          Hayden STW| 1518|\n",
      "|       Dunstable STW| 1518|\n",
      "|       Newthorpe STW| 1518|\n",
      "|        Aycliffe STW| 1517|\n",
      "|        Nuneaton STW| 1517|\n",
      "|  Shepton Mallet STW| 1516|\n",
      "|       Mansfield STW| 1515|\n",
      "|        Garforth STW| 1510|\n",
      "|     Vines Cross STW| 1509|\n",
      "|       Lemonroyd STW| 1506|\n",
      "|       Ilminster STW| 1505|\n",
      "|          Neiley STW| 1489|\n",
      "|Eden Vale East Gr...| 1483|\n",
      "|       Biddenden STW| 1482|\n",
      "|       Therfield STW| 1479|\n",
      "|Sherburn in Elmet...| 1478|\n",
      "|Stradishall (HMP ...| 1449|\n",
      "|         Canwick STW| 1444|\n",
      "|      Whitchurch STW| 1444|\n",
      "|       Burscough STW| 1436|\n",
      "|   Alderley Edge STW| 1424|\n",
      "|      Fazakerley STW| 1415|\n",
      "|      Windermere STW| 1415|\n",
      "|        Biddulph STW| 1411|\n",
      "|       Haverhill STW| 1397|\n",
      "|         Bourton STW| 1377|\n",
      "|Whitlingham (Norw...| 1368|\n",
      "|      Pen-y-bont STW| 1355|\n",
      "|  Ingoldisthorpe STW| 1348|\n",
      "|        Thurston STW| 1348|\n",
      "|         Crawley STW| 1326|\n",
      "|          Benson STW| 1326|\n",
      "|           Thame STW| 1326|\n",
      "|       Leadenham STW| 1296|\n",
      "|       Caythorpe STW| 1296|\n",
      "|      Stanton Aw STW| 1296|\n",
      "|      Cottesmore STW| 1295|\n",
      "|          Ulceby STW| 1287|\n",
      "|            Afan STW| 1276|\n",
      "|       Chalgrove STW| 1275|\n",
      "|        Abingdon STW| 1275|\n",
      "|      Watlington STW| 1275|\n",
      "|         Chinnor STW| 1275|\n",
      "|Marston Moretaine...| 1248|\n",
      "|          Woking STW| 1224|\n",
      "|           Tring STW| 1224|\n",
      "|          Henley STW| 1224|\n",
      "|          Didcot STW| 1224|\n",
      "|          Keelby STW| 1197|\n",
      "|    Coney Weston STW| 1196|\n",
      "|       Aylesbury STW| 1173|\n",
      "|         Wantage STW| 1173|\n",
      "|          Culham STW| 1173|\n",
      "|         Chilton STW| 1173|\n",
      "|          Milton STW| 1173|\n",
      "|       Cambridge STW| 1150|\n",
      "|Sisland (Loddon) STW| 1149|\n",
      "|Halstead Langley STW| 1148|\n",
      "|      Stowmarket STW| 1147|\n",
      "|       Chieveley STW| 1123|\n",
      "|         Newbury STW| 1123|\n",
      "|  Hatfield Heath STW| 1122|\n",
      "|          Purton STW| 1122|\n",
      "|    Foxton Cambs STW| 1099|\n",
      "|       Chedburgh STW| 1099|\n",
      "|           Soham STW| 1098|\n",
      "|      Burghfield STW| 1097|\n",
      "|    Attleborough STW| 1089|\n",
      "|      Silchester STW| 1072|\n",
      "|      Beddington STW| 1072|\n",
      "|       Ripley Tw STW| 1072|\n",
      "|     Prisborough STW| 1071|\n",
      "|        Appleton STW| 1071|\n",
      "|       Rodbourne STW| 1071|\n",
      "|     Worminghall STW| 1071|\n",
      "|         Fraddon STW| 1050|\n",
      "|Chester Le Street...| 1050|\n",
      "|          Bordon STW| 1050|\n",
      "|Gwennap (Lanner S...| 1050|\n",
      "|      Iver North STW| 1050|\n",
      "|Worksop (Manton) STW| 1050|\n",
      "|Stanton Harcourt STW| 1050|\n",
      "|     Maple Lodge STW| 1049|\n",
      "|   Shamley Green STW| 1049|\n",
      "|    East Markham STW| 1049|\n",
      "|    Gt Gaddesden STW| 1049|\n",
      "|          Potton STW| 1048|\n",
      "|      Coton Park STW| 1048|\n",
      "|        Hockford STW| 1048|\n",
      "|         Heacham STW| 1048|\n",
      "|        Keynsham STW| 1047|\n",
      "|      Pangbourne STW| 1046|\n",
      "|         Theydon STW| 1046|\n",
      "|      Kingsclere STW| 1046|\n",
      "|       Washwater STW| 1046|\n",
      "|Summer La (Pagham...| 1039|\n",
      "|     Whiteparish STW| 1039|\n",
      "|          Lidsey STW| 1036|\n",
      "|   Long Stratton STW| 1030|\n",
      "|       Bottisham STW| 1029|\n",
      "|        Gresford STW| 1028|\n",
      "|      Hogsmill B STW| 1026|\n",
      "|       Weybridge STW| 1026|\n",
      "|        Hogsmill STW| 1026|\n",
      "|         Standon STW| 1020|\n",
      "|     Buntingford STW| 1020|\n",
      "|     Aldermaston STW| 1020|\n",
      "|         Cholsey STW| 1020|\n",
      "|      Mill Green STW| 1020|\n",
      "|       Chilton W STW| 1020|\n",
      "| Stanford Rivers STW| 1020|\n",
      "|          Slough STW| 1020|\n",
      "|          Wisley STW| 1017|\n",
      "|         Pity Me STW| 1013|\n",
      "|Holsworthy (Derri...| 1012|\n",
      "|          Kinson STW| 1011|\n",
      "|          Wooler STW| 1010|\n",
      "|        Ringwood STW| 1009|\n",
      "|  Iwerne Minster STW| 1005|\n",
      "|     Esh Winning STW| 1003|\n",
      "|          Kelloe STW| 1001|\n",
      "|      Sedgeletch STW| 1001|\n",
      "|       Llangefni STW| 1000|\n",
      "|         Sandall STW| 1000|\n",
      "|       Woodsetts STW| 1000|\n",
      "|        Redditch STW| 1000|\n",
      "|        Ticknall STW| 1000|\n",
      "|    Clayton West STW| 1000|\n",
      "|  Huddersfield A STW| 1000|\n",
      "|        Sleaford STW| 1000|\n",
      "|         Reigate STW| 1000|\n",
      "|       Burton OW STW| 1000|\n",
      "|   Smalley Bight STW| 1000|\n",
      "|        Holmwood STW| 1000|\n",
      "|       Cranleigh STW| 1000|\n",
      "|        Wombwell STW| 1000|\n",
      "|         Chobham STW| 1000|\n",
      "|           Derby STW| 1000|\n",
      "|        Ancaster STW| 1000|\n",
      "|         Meriden STW| 1000|\n",
      "|     Cirencester STW| 1000|\n",
      "|     Mablethorpe STW| 1000|\n",
      "|       Nafferton STW| 1000|\n",
      "|      Pittington STW| 1000|\n",
      "|      Harvington STW| 1000|\n",
      "|          Witney STW| 1000|\n",
      "|  Balsall Common STW| 1000|\n",
      "|           Alton STW| 1000|\n",
      "|           Leven STW| 1000|\n",
      "|        Carleton STW| 1000|\n",
      "|         Barwick STW| 1000|\n",
      "|           Oadby STW| 1000|\n",
      "+--------------------+-----+\n",
      "only showing top 200 rows\n",
      "\n"
     ]
    }
   ],
   "source": [
    "# Groupd dataset by treatment Plants\n",
    "water_df.groupBy('TreatmentPlant').count().orderBy('count', ascending=False).show(200)  "
   ]
  },
  {
   "cell_type": "code",
   "execution_count": 57,
   "metadata": {},
   "outputs": [],
   "source": [
    "determinants = water_df.groupBy('NameDeterminandName')"
   ]
  },
  {
   "cell_type": "code",
   "execution_count": 64,
   "metadata": {},
   "outputs": [
    {
     "data": {
      "text/plain": [
       "[Row(NameDeterminandName='carbamazepine', avg(SampleValue)=0.6435719211822668),\n",
       " Row(NameDeterminandName='aluminium total', avg(SampleValue)=99.5387840679338),\n",
       " Row(NameDeterminandName='cypermethrin', avg(SampleValue)=0.001329596052610153),\n",
       " Row(NameDeterminandName='total phosphorus as P', avg(SampleValue)=2.8798776753670476),\n",
       " Row(NameDeterminandName='Biochemical Oxygen Demand', avg(SampleValue)=5.0058816686056185),\n",
       " Row(NameDeterminandName='tolyltriazole', avg(SampleValue)=1.6513827667984187),\n",
       " Row(NameDeterminandName='total suspended solids', avg(SampleValue)=10.668297923903367),\n",
       " Row(NameDeterminandName='fluoranthene', avg(SampleValue)=0.01392646653696515),\n",
       " Row(NameDeterminandName='copper dissolved', avg(SampleValue)=6.984541312616331),\n",
       " Row(NameDeterminandName='PFOS', avg(SampleValue)=0.034164214700736883),\n",
       " Row(NameDeterminandName='diclofenac', avg(SampleValue)=0.32460956607495084),\n",
       " Row(NameDeterminandName='soluble reactive phosphate as P', avg(SampleValue)=2.4206637587726463),\n",
       " Row(NameDeterminandName='HCBDD', avg(SampleValue)=0.009066986367909258),\n",
       " Row(NameDeterminandName='norerythromycin', avg(SampleValue)=0.06971076011846039),\n",
       " Row(NameDeterminandName='pH', avg(SampleValue)=7.599193825042882),\n",
       " Row(NameDeterminandName='Nonylphenol', avg(SampleValue)=0.16769849849850268),\n",
       " Row(NameDeterminandName='BDE28', avg(SampleValue)=0.0003487388483373694),\n",
       " Row(NameDeterminandName='aluminium reactive', avg(SampleValue)=11.977374301675951),\n",
       " Row(NameDeterminandName='total oxidised nitrogen as N', avg(SampleValue)=24.558059246861916),\n",
       " Row(NameDeterminandName='zinc dissolved', avg(SampleValue)=27.101379899170592),\n",
       " Row(NameDeterminandName='oestrone', avg(SampleValue)=0.010170552763819072),\n",
       " Row(NameDeterminandName='BDE 154', avg(SampleValue)=0.00038078866271995537),\n",
       " Row(NameDeterminandName='aluminium dissolved', avg(SampleValue)=28.083218102331642),\n",
       " Row(NameDeterminandName='mercury total', avg(SampleValue)=0.009343761224324168),\n",
       " Row(NameDeterminandName='tri nonylphenol ethoxylates', avg(SampleValue)=0.07095117070946522),\n",
       " Row(NameDeterminandName='Tributyltin', avg(SampleValue)=0.00038629081467055635),\n",
       " Row(NameDeterminandName='BDE 100', avg(SampleValue)=0.0003455553888573332),\n",
       " Row(NameDeterminandName='ammoniacal nitrogen as N', avg(SampleValue)=1.3516639308674991),\n",
       " Row(NameDeterminandName='oestradiol 17b', avg(SampleValue)=0.0014098074596774171),\n",
       " Row(NameDeterminandName='erythromycin', avg(SampleValue)=0.39365301383399215),\n",
       " Row(NameDeterminandName='diethylhexylphthalate', avg(SampleValue)=0.7805443704305475),\n",
       " Row(NameDeterminandName='cadmium dissolved', avg(SampleValue)=0.037698666127728965),\n",
       " Row(NameDeterminandName='chromium total', avg(SampleValue)=0.7856732417138249),\n",
       " Row(NameDeterminandName='epoxycarbamazepine 10 11', avg(SampleValue)=0.2145671597633128),\n",
       " Row(NameDeterminandName='dissolved organic carbon', avg(SampleValue)=9.99818490383062),\n",
       " Row(NameDeterminandName='copper total', avg(SampleValue)=10.570253333333328),\n",
       " Row(NameDeterminandName='BDE 99', avg(SampleValue)=0.0005186577653359097),\n",
       " Row(NameDeterminandName='Octylphenols ', avg(SampleValue)=0.08315509142624693),\n",
       " Row(NameDeterminandName='calcium', avg(SampleValue)=86.42937540400779),\n",
       " Row(NameDeterminandName='ranitidine', avg(SampleValue)=0.5622067061143987),\n",
       " Row(NameDeterminandName='metformin', avg(SampleValue)=9.67722573964497),\n",
       " Row(NameDeterminandName='zinc total', avg(SampleValue)=38.94083393998218),\n",
       " Row(NameDeterminandName='iron dissolved', avg(SampleValue)=118.50839331931364),\n",
       " Row(NameDeterminandName='ortho hydroxyatorvastatin', avg(SampleValue)=0.20663593287265575),\n",
       " Row(NameDeterminandName='benzoapyrene', avg(SampleValue)=0.010056788968787998),\n",
       " Row(NameDeterminandName='ethinyloestradiol 17a', avg(SampleValue)=0.0003647290615539861),\n",
       " Row(NameDeterminandName='BDE 153', avg(SampleValue)=0.0003387422106884904),\n",
       " Row(NameDeterminandName='nickel dissolved', avg(SampleValue)=3.935398545512665),\n",
       " Row(NameDeterminandName='nickel total', avg(SampleValue)=4.291123787976727),\n",
       " Row(NameDeterminandName='clarithromycin', avg(SampleValue)=0.47300108374384187),\n",
       " Row(NameDeterminandName='mono nonylphenol ethoxylates', avg(SampleValue)=0.2045539714257356),\n",
       " Row(NameDeterminandName='sulphide', avg(SampleValue)=0.026489372651528155),\n",
       " Row(NameDeterminandName='norsertraline', avg(SampleValue)=0.03630019723865877),\n",
       " Row(NameDeterminandName='lead total', avg(SampleValue)=0.9128145513338721),\n",
       " Row(NameDeterminandName='ibuprofen', avg(SampleValue)=0.30621742574257327),\n",
       " Row(NameDeterminandName='trixylenyl phosphate', avg(SampleValue)=0.009644268774703446),\n",
       " Row(NameDeterminandName='triclosan', avg(SampleValue)=0.10173271374261973),\n",
       " Row(NameDeterminandName='iron total', avg(SampleValue)=414.8021731577243),\n",
       " Row(NameDeterminandName='azithromycin', avg(SampleValue)=0.2916011921182265),\n",
       " Row(NameDeterminandName='PFOA', avg(SampleValue)=0.008142880623075747),\n",
       " Row(NameDeterminandName='mercury dissolved', avg(SampleValue)=0.0042155074894171295),\n",
       " Row(NameDeterminandName='sertraline', avg(SampleValue)=0.06829536489151873),\n",
       " Row(NameDeterminandName='benzotriazole ', avg(SampleValue)=2.6074753853754937),\n",
       " Row(NameDeterminandName='total organic carbon', avg(SampleValue)=12.403053780833003),\n",
       " Row(NameDeterminandName='chromium dissolved', avg(SampleValue)=0.5664266341859515),\n",
       " Row(NameDeterminandName='lead dissolved', avg(SampleValue)=0.42647029261571096),\n",
       " Row(NameDeterminandName='propanolol', avg(SampleValue)=0.18832305418719208),\n",
       " Row(NameDeterminandName='para hydroxyatorvastatin', avg(SampleValue)=0.27306110562685104),\n",
       " Row(NameDeterminandName='di nonylphenol ethoxylates', avg(SampleValue)=0.14603904016027586),\n",
       " Row(NameDeterminandName='fluoxetine', avg(SampleValue)=0.05840482758620697),\n",
       " Row(NameDeterminandName='atenolol', avg(SampleValue)=0.39724960552268246),\n",
       " Row(NameDeterminandName='tamoxifen', avg(SampleValue)=0.006837091988130488),\n",
       " Row(NameDeterminandName='Chemical Oxygen Demand', avg(SampleValue)=37.33354249338625),\n",
       " Row(NameDeterminandName='atorvastatin', avg(SampleValue)=0.12102783810463973),\n",
       " Row(NameDeterminandName='BDE 47', avg(SampleValue)=0.0004901075857573343),\n",
       " Row(NameDeterminandName='cadmium total', avg(SampleValue)=0.04755598028123536),\n",
       " Row(NameDeterminandName='ciprofloxacin', avg(SampleValue)=0.1965241276171486)]"
      ]
     },
     "execution_count": 64,
     "metadata": {},
     "output_type": "execute_result"
    }
   ],
   "source": [
    "determinants.agg({'SampleValue': 'mean'}).collect()"
   ]
  },
  {
   "cell_type": "code",
   "execution_count": 59,
   "metadata": {},
   "outputs": [
    {
     "data": {
      "text/plain": [
       "pyspark.sql.group.GroupedData"
      ]
     },
     "execution_count": 59,
     "metadata": {},
     "output_type": "execute_result"
    }
   ],
   "source": [
    "type (determinants)"
   ]
  },
  {
   "cell_type": "code",
   "execution_count": null,
   "metadata": {},
   "outputs": [],
   "source": []
  }
 ],
 "metadata": {
  "kernelspec": {
   "display_name": "Python 3",
   "language": "python",
   "name": "python3"
  },
  "language_info": {
   "codemirror_mode": {
    "name": "ipython",
    "version": 3
   },
   "file_extension": ".py",
   "mimetype": "text/x-python",
   "name": "python",
   "nbconvert_exporter": "python",
   "pygments_lexer": "ipython3",
   "version": "3.8.5"
  }
 },
 "nbformat": 4,
 "nbformat_minor": 4
}
